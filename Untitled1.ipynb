{
 "cells": [
  {
   "cell_type": "code",
   "execution_count": 1,
   "metadata": {},
   "outputs": [
    {
     "data": {
      "text/plain": [
       "'1.0.5'"
      ]
     },
     "execution_count": 1,
     "metadata": {},
     "output_type": "execute_result"
    }
   ],
   "source": [
    "import pandas\n",
    "pandas.__version__"
   ]
  },
  {
   "cell_type": "code",
   "execution_count": 2,
   "metadata": {},
   "outputs": [
    {
     "data": {
      "text/plain": [
       "'1.0.5'"
      ]
     },
     "execution_count": 2,
     "metadata": {},
     "output_type": "execute_result"
    }
   ],
   "source": [
    "import pandas as pd\n",
    "pd.__version__"
   ]
  },
  {
   "cell_type": "code",
   "execution_count": 7,
   "metadata": {},
   "outputs": [
    {
     "ename": "SyntaxError",
     "evalue": "invalid character in identifier (<ipython-input-7-36c802890bbd>, line 9)",
     "output_type": "error",
     "traceback": [
      "\u001b[0;36m  File \u001b[0;32m\"<ipython-input-7-36c802890bbd>\"\u001b[0;36m, line \u001b[0;32m9\u001b[0m\n\u001b[0;31m    conn = ps.connect(host='database-3.cykngyhgdi6y.us-east-1.rds.amazonaws.com', user='admin', passwd='admin123', port=3306, db='SuperbowlDB', autocommit=True);\u001b[0m\n\u001b[0m        ^\u001b[0m\n\u001b[0;31mSyntaxError\u001b[0m\u001b[0;31m:\u001b[0m invalid character in identifier\n"
     ]
    }
   ],
   "source": [
    "import sys\n",
    "sys.path.insert(0,\"/Library/Frameworks/Python.framework/Versions/3.9/lib/python3.9/site-packages\")\n",
    "import pymysql as ps\n",
    "import matplotlib.pyplot as plt\n",
    "import numpy as np\n",
    "import pandas as pd\n",
    "%matplotlib inline\n",
    "\n",
    "conn = ps.connect(host='database-3.cykngyhgdi6y.us-east-1.rds.amazonaws.com', user='admin', passwd='admin123', port=3306, db='SuperbowlDB', autocommit=True);\n",
    "#execute query using pandas and read the data\n",
    "df = pd.read_sql('SELECT Date, Winner_Pts, Loser_Pts FROM Superbowl ORDER BY Date DESC', conn);\n",
    "fig = px.scatter(x=df['Date'],y=df['Winner_Pts'],  mode='markers');\n",
    "fig.show();\n",
    "conn.close();\n"
   ]
  },
  {
   "cell_type": "code",
   "execution_count": null,
   "metadata": {},
   "outputs": [],
   "source": []
  }
 ],
 "metadata": {
  "kernelspec": {
   "display_name": "Python 3",
   "language": "python",
   "name": "python3"
  },
  "language_info": {
   "codemirror_mode": {
    "name": "ipython",
    "version": 3
   },
   "file_extension": ".py",
   "mimetype": "text/x-python",
   "name": "python",
   "nbconvert_exporter": "python",
   "pygments_lexer": "ipython3",
   "version": "3.8.3"
  }
 },
 "nbformat": 4,
 "nbformat_minor": 4
}
